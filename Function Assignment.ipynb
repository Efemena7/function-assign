{
 "cells": [
  {
   "cell_type": "markdown",
   "id": "f94576de-2130-4391-929c-bad8aeb8f0c5",
   "metadata": {},
   "source": [
    "## 1. Write a function called greet that takes a name as a parameter and returns \"Hello, [name]!\""
   ]
  },
  {
   "cell_type": "code",
   "execution_count": 8,
   "id": "458c9c98-cec2-483b-afe1-c70c9aaa16aa",
   "metadata": {},
   "outputs": [],
   "source": [
    "def greet(name):\n",
    "    return f\"Hello, {name}!\""
   ]
  },
  {
   "cell_type": "code",
   "execution_count": 10,
   "id": "4fc813d3-7659-4a52-a86b-2be31ea58668",
   "metadata": {},
   "outputs": [
    {
     "data": {
      "text/plain": [
       "'Hello, Boma!'"
      ]
     },
     "execution_count": 10,
     "metadata": {},
     "output_type": "execute_result"
    }
   ],
   "source": [
    "greet(\"Boma\")"
   ]
  },
  {
   "cell_type": "markdown",
   "id": "21321549-fb6f-4d1a-bbf4-ee76657bd3ee",
   "metadata": {},
   "source": [
    "## 2. Create a function calculate_area that takes length and width as parameters and returns the area of a rectangle."
   ]
  },
  {
   "cell_type": "code",
   "execution_count": 13,
   "id": "0cfafe8f-5919-4800-a53c-beebd16db162",
   "metadata": {},
   "outputs": [],
   "source": [
    "def calculate_area(length, width):\n",
    "    area = length * width\n",
    "    return f\"The area of the rectangle is {area}cm^2\" "
   ]
  },
  {
   "cell_type": "code",
   "execution_count": 15,
   "id": "717df1ba-1818-437f-8162-aef1d9dfe994",
   "metadata": {},
   "outputs": [
    {
     "data": {
      "text/plain": [
       "'The area of the rectangle is 42cm^2'"
      ]
     },
     "execution_count": 15,
     "metadata": {},
     "output_type": "execute_result"
    }
   ],
   "source": [
    "calculate_area(6,7)"
   ]
  },
  {
   "cell_type": "markdown",
   "id": "39922ad6-209e-472a-878d-60034e26c825",
   "metadata": {},
   "source": [
    "## 3 Define a function is_even that takes a number and returns True if it's even, False if it's odd."
   ]
  },
  {
   "cell_type": "code",
   "execution_count": 4,
   "id": "9bf1c878-ebef-443e-8cfa-d6c10b7d536d",
   "metadata": {},
   "outputs": [],
   "source": [
    "def is_even(number):\n",
    "    if number % 2 == 0:\n",
    "        return True\n",
    "    else:\n",
    "        return False"
   ]
  },
  {
   "cell_type": "code",
   "execution_count": 6,
   "id": "802a4c53-6b92-42ae-96a4-3a3ca83f42c4",
   "metadata": {},
   "outputs": [
    {
     "data": {
      "text/plain": [
       "False"
      ]
     },
     "execution_count": 6,
     "metadata": {},
     "output_type": "execute_result"
    }
   ],
   "source": [
    "is_even(7)"
   ]
  },
  {
   "cell_type": "code",
   "execution_count": 8,
   "id": "fed300ae-786d-4f78-b05e-78b87df9d1f1",
   "metadata": {},
   "outputs": [
    {
     "data": {
      "text/plain": [
       "True"
      ]
     },
     "execution_count": 8,
     "metadata": {},
     "output_type": "execute_result"
    }
   ],
   "source": [
    "is_even(90)"
   ]
  },
  {
   "cell_type": "markdown",
   "id": "b999de09-ad15-4c0b-ae6e-76765f2ae9b5",
   "metadata": {},
   "source": [
    "## 4. Write a function get_max that takes two numbers and returns the larger one."
   ]
  },
  {
   "cell_type": "code",
   "execution_count": 18,
   "id": "cc3524fc-6cbe-4e81-b0e7-a89f02900d9e",
   "metadata": {},
   "outputs": [],
   "source": [
    "def get_max(num1, num2):\n",
    "    if num1 > num2:\n",
    "        return f\"The larger Number is {num1}\"\n",
    "    else:\n",
    "        return f\"The larger Number is {num2}\""
   ]
  },
  {
   "cell_type": "code",
   "execution_count": 20,
   "id": "773dbeb5-4484-4700-b389-5a5d57821844",
   "metadata": {},
   "outputs": [
    {
     "data": {
      "text/plain": [
       "'The larger Number is 90'"
      ]
     },
     "execution_count": 20,
     "metadata": {},
     "output_type": "execute_result"
    }
   ],
   "source": [
    "get_max(90, 25)"
   ]
  },
  {
   "cell_type": "code",
   "execution_count": 22,
   "id": "4e563e5a-1494-4157-aa96-b99f51dafeac",
   "metadata": {},
   "outputs": [
    {
     "data": {
      "text/plain": [
       "'The larger Number is 25'"
      ]
     },
     "execution_count": 22,
     "metadata": {},
     "output_type": "execute_result"
    }
   ],
   "source": [
    "get_max(9, 25)"
   ]
  },
  {
   "cell_type": "markdown",
   "id": "abf2ec82-1476-489e-8ac3-5741a9f4cc2b",
   "metadata": {},
   "source": [
    "## 5. Create a function celsius_to_fahrenheit that converts Celsius to Fahrenheit using the formula: F = (C × 9/5) + 32"
   ]
  },
  {
   "cell_type": "code",
   "execution_count": 24,
   "id": "f1abda37-8bca-4cf5-baf8-309a726bd4a8",
   "metadata": {},
   "outputs": [],
   "source": [
    "def celsius_to_fahrenheit(degree):\n",
    "    fahrenheit = (degree * 9/5) + 32\n",
    "    return fahrenheit"
   ]
  },
  {
   "cell_type": "code",
   "execution_count": 30,
   "id": "4ab9ed4a-0ab7-492e-9da2-5725d46dce63",
   "metadata": {},
   "outputs": [
    {
     "data": {
      "text/plain": [
       "152.6"
      ]
     },
     "execution_count": 30,
     "metadata": {},
     "output_type": "execute_result"
    }
   ],
   "source": [
    "celsius_to_fahrenheit(67)"
   ]
  },
  {
   "cell_type": "markdown",
   "id": "229e0d0f-a4b1-4815-b2b2-d37af35afbba",
   "metadata": {},
   "source": [
    "## 6. Write a function introduce that takes a name and an optional age parameter (default value 25). It should return \"Hi, I'm [name] and I'm [age] years old.\""
   ]
  },
  {
   "cell_type": "code",
   "execution_count": 33,
   "id": "91161da3-bf79-40b4-898d-ef0076e2fa63",
   "metadata": {},
   "outputs": [],
   "source": [
    "def introduce(name, age = 25):\n",
    "    return f\"Hi, I'm {name} and I'm {age} years old\""
   ]
  },
  {
   "cell_type": "code",
   "execution_count": 35,
   "id": "7e35fda5-49cb-4ce2-a897-c8f7d95d0fae",
   "metadata": {},
   "outputs": [
    {
     "data": {
      "text/plain": [
       "\"Hi, I'm Boma and I'm 25 years old\""
      ]
     },
     "execution_count": 35,
     "metadata": {},
     "output_type": "execute_result"
    }
   ],
   "source": [
    "introduce(\"Boma\")"
   ]
  },
  {
   "cell_type": "code",
   "execution_count": 37,
   "id": "9dbe06c1-02b1-4321-af28-283bfaec06e8",
   "metadata": {},
   "outputs": [
    {
     "data": {
      "text/plain": [
       "\"Hi, I'm Boma and I'm 28 years old\""
      ]
     },
     "execution_count": 37,
     "metadata": {},
     "output_type": "execute_result"
    }
   ],
   "source": [
    "introduce(\"Boma\", 28)"
   ]
  },
  {
   "cell_type": "markdown",
   "id": "f8ac66ae-f32a-4eb6-b209-8a93547715ce",
   "metadata": {},
   "source": [
    "## 7. Create a function calculate_discount that takes a price and discount percentage (default 10%) and returns the discounted price."
   ]
  },
  {
   "cell_type": "code",
   "execution_count": 90,
   "id": "0f4f97e3-cb31-48f3-94a0-e3259d46d86f",
   "metadata": {},
   "outputs": [],
   "source": [
    "def calculate_discount(price, discount_percentage = 10):\n",
    "    percentage = discount_percentage / 100\n",
    "    discount = price * percentage\n",
    "    amount = price - discount\n",
    "    return f\" Amount: {amount}, discount: {discount}\""
   ]
  },
  {
   "cell_type": "code",
   "execution_count": 92,
   "id": "a518d939-a1c8-4eca-8bef-9e37d8dec7ca",
   "metadata": {},
   "outputs": [
    {
     "data": {
      "text/plain": [
       "' Amount: 36000.0, discount: 4000.0'"
      ]
     },
     "execution_count": 92,
     "metadata": {},
     "output_type": "execute_result"
    }
   ],
   "source": [
    "calculate_discount(40000)"
   ]
  },
  {
   "cell_type": "code",
   "execution_count": 97,
   "id": "15ddf6e1-91af-4685-8192-49d099e87a59",
   "metadata": {},
   "outputs": [
    {
     "data": {
      "text/plain": [
       "' Amount: 16800.0, discount: 23200.0'"
      ]
     },
     "execution_count": 97,
     "metadata": {},
     "output_type": "execute_result"
    }
   ],
   "source": [
    "calculate_discount(40000, 58)"
   ]
  },
  {
   "cell_type": "markdown",
   "id": "73feeffc-891f-484e-958a-a34b23e718aa",
   "metadata": {},
   "source": [
    "## 8. Define a function create_email that takes a first name, last name, and optional domain (default \"gmail.com\") to create an email address."
   ]
  },
  {
   "cell_type": "code",
   "execution_count": 55,
   "id": "0992f457-30f4-40ea-b3f7-6cf831eb6992",
   "metadata": {},
   "outputs": [],
   "source": [
    "def create_email(first_name, last_name, domain = \"@gmail.com\"):\n",
    "    return first_name + last_name + domain"
   ]
  },
  {
   "cell_type": "code",
   "execution_count": 57,
   "id": "41e78e87-ae59-46bd-9782-43c82a1c4292",
   "metadata": {},
   "outputs": [
    {
     "data": {
      "text/plain": [
       "'bomasmith@gmail.com'"
      ]
     },
     "execution_count": 57,
     "metadata": {},
     "output_type": "execute_result"
    }
   ],
   "source": [
    "create_email(\"boma\", \"smith\")"
   ]
  },
  {
   "cell_type": "code",
   "execution_count": 59,
   "id": "daafedf1-fa07-4a4a-b3e3-29dd873d0ec5",
   "metadata": {},
   "outputs": [
    {
     "data": {
      "text/plain": [
       "'estherclayton@gmail.com'"
      ]
     },
     "execution_count": 59,
     "metadata": {},
     "output_type": "execute_result"
    }
   ],
   "source": [
    "create_email(\"esther\", \"clayton\")"
   ]
  },
  {
   "cell_type": "code",
   "execution_count": 61,
   "id": "285e9a2d-efb5-4617-83df-a0ec5ec20325",
   "metadata": {},
   "outputs": [
    {
     "data": {
      "text/plain": [
       "'bomasmith@yahoo.com'"
      ]
     },
     "execution_count": 61,
     "metadata": {},
     "output_type": "execute_result"
    }
   ],
   "source": [
    "create_email(\"boma\", \"smith\", \"@yahoo.com\")"
   ]
  },
  {
   "cell_type": "markdown",
   "id": "cdc56244-1d68-4cca-9f17-e3edee6aaaf1",
   "metadata": {},
   "source": [
    "## 9. Create a function count_vowels that takes a string and returns the number of vowels in it."
   ]
  },
  {
   "cell_type": "code",
   "execution_count": 74,
   "id": "e11bbb10-4bfe-4180-9978-12254d3520e0",
   "metadata": {},
   "outputs": [],
   "source": [
    "def count_vowels(sentence):\n",
    "    vowels = []\n",
    "    for letter in sentence:\n",
    "        if letter in (\"a\", \"i\", \"e\", \"o\", \"u\"):\n",
    "            vowels.append(letter)\n",
    "    return f\"The number of vowels in [{word}]: {len(vowels)}\""
   ]
  },
  {
   "cell_type": "code",
   "execution_count": 76,
   "id": "0fd394ad-25e8-4527-b238-bbab25dd2c41",
   "metadata": {},
   "outputs": [
    {
     "data": {
      "text/plain": [
       "'The number of vowels in [This is Victory Jackson]: 6'"
      ]
     },
     "execution_count": 76,
     "metadata": {},
     "output_type": "execute_result"
    }
   ],
   "source": [
    "count_vowels(\"This is Victory Jackson\")"
   ]
  },
  {
   "cell_type": "markdown",
   "id": "321d7536-28da-46ea-b196-838a06cecb58",
   "metadata": {},
   "source": [
    "## 10. Define a function find_longest_word that takes a list of words and returns the longest one."
   ]
  },
  {
   "cell_type": "code",
   "execution_count": 83,
   "id": "7cec2f8d-9552-4afc-b6e0-1c7468c78a09",
   "metadata": {},
   "outputs": [],
   "source": [
    "def find_longest(sentence):\n",
    "    length = 0\n",
    "    for word in sentence.split():\n",
    "        length_of_word = len(word)\n",
    "        if length_of_word > length:\n",
    "            length = length_of_word\n",
    "            longest_word = word\n",
    "    return f\"The longest word in the sentence is: {longest_word}\""
   ]
  },
  {
   "cell_type": "code",
   "execution_count": 89,
   "id": "043a7e74-cc34-4d7f-84ab-8d460727ca5d",
   "metadata": {},
   "outputs": [
    {
     "data": {
      "text/plain": [
       "'The longest word in the sentence is: james'"
      ]
     },
     "execution_count": 89,
     "metadata": {},
     "output_type": "execute_result"
    }
   ],
   "source": [
    "find_longest(\"This is mary james\")"
   ]
  },
  {
   "cell_type": "markdown",
   "id": "fc1c29bc-18f9-4f51-a325-ca7b52f30200",
   "metadata": {},
   "source": [
    "## 11. Write a function grade_calculator that takes a score (0-100) and returns the letter grade (A, B, C, D,E, F)."
   ]
  },
  {
   "cell_type": "code",
   "execution_count": 76,
   "id": "ed877fe0-6e6f-4b6f-a287-0964c56300cd",
   "metadata": {},
   "outputs": [],
   "source": [
    "def grade_calculator(score):\n",
    "    if score < 0 or score > 100:\n",
    "        print(\"Invalid Entry\")\n",
    "    elif score >= 70:\n",
    "        print(\"A\")\n",
    "    elif score >= 60:\n",
    "        print(\"B\")\n",
    "    elif score >= 50:\n",
    "        print(\"C\")\n",
    "    elif score >= 45:\n",
    "        print(\"D\")\n",
    "    elif score >= 40:\n",
    "        print(\"E\")\n",
    "    else:\n",
    "        print(\"F\")"
   ]
  },
  {
   "cell_type": "code",
   "execution_count": 78,
   "id": "12e19a66-6c4d-4346-aa2e-e144a3524444",
   "metadata": {},
   "outputs": [
    {
     "name": "stdout",
     "output_type": "stream",
     "text": [
      "F\n"
     ]
    }
   ],
   "source": [
    "grade_calculator(10)"
   ]
  },
  {
   "cell_type": "markdown",
   "id": "d5fb3542-afb6-4a25-9c3a-44b3163ffffa",
   "metadata": {},
   "source": [
    "## 12. Write a function file_extension that extracts the file extension from a filename, handling cases where there might be no extension."
   ]
  },
  {
   "cell_type": "code",
   "execution_count": 245,
   "id": "914ce038-f1b5-478f-bc2a-f5da3a292974",
   "metadata": {},
   "outputs": [],
   "source": [
    "def file_extension(file_name):\n",
    "    if \".\" not in file_name:\n",
    "        return \"none\"\n",
    "    else:\n",
    "        for extenstion in file_name.split(\".\"):\n",
    "            if extenstion != file_name.split(\".\")[1]:\n",
    "                continue\n",
    "            else:\n",
    "                print(name)"
   ]
  },
  {
   "cell_type": "code",
   "execution_count": 251,
   "id": "566d877e-1dc4-4813-962a-11aa8c9cc115",
   "metadata": {},
   "outputs": [
    {
     "name": "stdout",
     "output_type": "stream",
     "text": [
      "jpg\n"
     ]
    }
   ],
   "source": [
    "file_extension(\"name.jpg\")"
   ]
  },
  {
   "cell_type": "code",
   "execution_count": 233,
   "id": "e316d022-38fe-4c71-bd4f-693179738c9c",
   "metadata": {},
   "outputs": [
    {
     "name": "stdout",
     "output_type": "stream",
     "text": [
      "jpg\n"
     ]
    }
   ],
   "source": [
    "file_name = \"name.jpg\"\n",
    "for name in file_name.split(\".\"):\n",
    "    if name != file_name.split(\".\")[1]:\n",
    "        continue\n",
    "    else:\n",
    "        print(name)"
   ]
  },
  {
   "cell_type": "markdown",
   "id": "08d94fa5-13a2-45fc-8d1a-2c55ce8f1d49",
   "metadata": {},
   "source": [
    "## 13. Write a function safe_get_item that tries to access a list item by index and returns None if the index is out of bounds.  "
   ]
  },
  {
   "cell_type": "code",
   "execution_count": 21,
   "id": "f3793591-0ffb-4678-a21a-449fc2294e2b",
   "metadata": {},
   "outputs": [],
   "source": [
    "def safe_get_item(index):\n",
    "    items = [\"Esther\", 0, \"Chemchris\", \"Smith\", 1, 7, \"Clayton\", \"Okon\", \"Edison\", \"Efemena\", \"White\", 6, 8,]\n",
    "    if index <= len(items):\n",
    "        return items[index]\n",
    "    else:\n",
    "        return \"none\""
   ]
  },
  {
   "cell_type": "code",
   "execution_count": 29,
   "id": "a0fb1e3d-e4be-492d-8653-c498a20d1157",
   "metadata": {},
   "outputs": [
    {
     "data": {
      "text/plain": [
       "'none'"
      ]
     },
     "execution_count": 29,
     "metadata": {},
     "output_type": "execute_result"
    }
   ],
   "source": [
    "safe_get_item(50)"
   ]
  },
  {
   "cell_type": "markdown",
   "id": "82e01fa7-b50e-4580-a907-ac03a474471b",
   "metadata": {},
   "source": [
    "## 14. Create a function clean_data that takes a list of mixed data types and returns only the numeric values as a new list."
   ]
  },
  {
   "cell_type": "code",
   "execution_count": 10,
   "id": "9e37d186-1919-4434-94b0-d261aa88212a",
   "metadata": {},
   "outputs": [],
   "source": [
    "def clean_data(list_of_things):\n",
    "    new_list = []\n",
    "    for thing in list_of_things:\n",
    "        if isinstance(thing, (int, float)):# the function isinstance()\n",
    "            new_list.append(thing)\n",
    "        else:\n",
    "            continue\n",
    "    return new_list"
   ]
  },
  {
   "cell_type": "code",
   "execution_count": 12,
   "id": "f9fce662-dbf0-4935-b5b6-805bd5c43904",
   "metadata": {},
   "outputs": [
    {
     "data": {
      "text/plain": [
       "[0, 1, 7, 5, 6, 8]"
      ]
     },
     "execution_count": 12,
     "metadata": {},
     "output_type": "execute_result"
    }
   ],
   "source": [
    "clean_data([\"Esther\", 0, \"Chemchris\", \"Smith\", 1, 7, \"Clayton\", 5, \"Okon\", \"Edison\", \"Efemena\", \"White\", 6, 8,])"
   ]
  },
  {
   "cell_type": "markdown",
   "id": "dd597efa-bc54-42a1-97fe-2828fc23c4f4",
   "metadata": {},
   "source": [
    "## 15. Write a function analyze_grades that takes a dictionary of student names and their scores lists, returning statistics (average, highest, lowest) for each student. "
   ]
  },
  {
   "cell_type": "code",
   "execution_count": 50,
   "id": "90bdc9c0-8019-4c07-8aff-9f351bd4a040",
   "metadata": {},
   "outputs": [
    {
     "name": "stdout",
     "output_type": "stream",
     "text": [
      "89\n",
      "6\n",
      "49.5\n"
     ]
    }
   ],
   "source": [
    "#def analyze_grade(dictionary):\n",
    "analyze_grade({\"name\": 89, \"age\": 25, \"sex\":6, \"like\": 78})\n",
    "#for name in profile:\n",
    "   # print(name)"
   ]
  },
  {
   "cell_type": "code",
   "execution_count": 48,
   "id": "8073f7db-4e85-4bc3-b7d6-b3e73fae293c",
   "metadata": {},
   "outputs": [],
   "source": [
    "#import maths\n",
    "def analyze_grade(dictionary):\n",
    "    names = []\n",
    "    scores = []\n",
    "    d = dictionary\n",
    "    k = list(d.keys())\n",
    "    v = list(d.values())\n",
    "    maxium = max(v[1])\n",
    "    minn = min(v[1])\n"
   ]
  },
  {
   "cell_type": "code",
   "execution_count": 64,
   "id": "9e97a612-10da-48f7-8f24-d16e63c5870e",
   "metadata": {},
   "outputs": [],
   "source": [
    "d = {\"Names\":[\"Richard\", \"Efemena\", \"Hawa\", \"Janet\", \"Victory\", \"Prince\"], \"Scores\":[ 95, 99, 98, 96, 88, 94]}"
   ]
  },
  {
   "cell_type": "code",
   "execution_count": 56,
   "id": "925f1985-e31a-460a-a971-1cad5710cb37",
   "metadata": {},
   "outputs": [
    {
     "name": "stdout",
     "output_type": "stream",
     "text": [
      "95\n",
      "99\n",
      "98\n",
      "96\n",
      "88\n",
      "94\n"
     ]
    }
   ],
   "source": [
    "for name in d['Scores']:\n",
    "    print(name)"
   ]
  },
  {
   "cell_type": "code",
   "execution_count": null,
   "id": "d492b84d-8c8c-402c-9982-06e7bd1b9625",
   "metadata": {},
   "outputs": [],
   "source": [
    "names = []\n",
    "scores = []\n",
    "d = dictionary\n",
    "k = list(d.keys())\n",
    "v = list(d.values())"
   ]
  },
  {
   "cell_type": "code",
   "execution_count": 66,
   "id": "64f6b5aa-cd3d-438d-9dd9-eff090991293",
   "metadata": {},
   "outputs": [],
   "source": [
    " k = list(d.keys())"
   ]
  },
  {
   "cell_type": "code",
   "execution_count": 70,
   "id": "af163557-bc51-4140-8f1d-69654e9c0a61",
   "metadata": {},
   "outputs": [],
   "source": [
    "v = list(d.values())"
   ]
  },
  {
   "cell_type": "code",
   "execution_count": 68,
   "id": "ff9fc26d-8ed2-4f33-ae64-587e94d8d05d",
   "metadata": {},
   "outputs": [
    {
     "data": {
      "text/plain": [
       "'Scores'"
      ]
     },
     "execution_count": 68,
     "metadata": {},
     "output_type": "execute_result"
    }
   ],
   "source": [
    "k[1]"
   ]
  },
  {
   "cell_type": "code",
   "execution_count": 74,
   "id": "7b61fdcc-d1d3-4d9c-bea7-9b9143078ec2",
   "metadata": {},
   "outputs": [
    {
     "data": {
      "text/plain": [
       "[95, 99, 98, 96, 88, 94]"
      ]
     },
     "execution_count": 74,
     "metadata": {},
     "output_type": "execute_result"
    }
   ],
   "source": [
    "v[1]"
   ]
  },
  {
   "cell_type": "markdown",
   "id": "dee059fc-0ff4-439b-813e-471ea34fe060",
   "metadata": {},
   "source": [
    "def analyze_grades(student_scores):\n",
    "    \"\"\"\n",
    "    Analyzes grades for each student and returns statistics.\n",
    "\n",
    "    Args:\n",
    "        student_scores (dict): A dictionary where keys are student names and values are lists of scores.\n",
    "\n",
    "    Returns:\n",
    "        dict: A dictionary with student names as keys and their statistics (average, highest, lowest) as values.\n",
    "    \"\"\"\n",
    "    statistics = {}\n",
    "    for student, scores in student_scores.items():\n",
    "        if scores:  # Ensure the scores list is not empty\n",
    "            avg_score = sum(scores) / len(scores)\n",
    "            highest_score = max(scores)\n",
    "            lowest_score = min(scores)\n",
    "            statistics[student] = {\n",
    "                \"average\": avg_score,\n",
    "                \"highest\": highest_score,\n",
    "                \"lowest\": lowest_score\n",
    "            }\n",
    "        else:\n",
    "            statistics[student] = {\n",
    "                \"average\": None,\n",
    "                \"highest\": None,\n",
    "                \"lowest\": None\n",
    "            }\n",
    "    return statistics\n",
    "\n",
    "# Example usage:\n",
    "student_scores = {\n",
    "    \"Alice\": [85, 90, 78],\n",
    "    \"Bob\": [92, 88, 84],\n",
    "    \"Charlie\": [70, 75],\n",
    "    \"Diana\": []\n",
    "}\n",
    "\n",
    "result = analyze_grades(student_scores)\n",
    "print(result)\n"
   ]
  }
 ],
 "metadata": {
  "kernelspec": {
   "display_name": "Python [conda env:base] *",
   "language": "python",
   "name": "conda-base-py"
  },
  "language_info": {
   "codemirror_mode": {
    "name": "ipython",
    "version": 3
   },
   "file_extension": ".py",
   "mimetype": "text/x-python",
   "name": "python",
   "nbconvert_exporter": "python",
   "pygments_lexer": "ipython3",
   "version": "3.12.7"
  }
 },
 "nbformat": 4,
 "nbformat_minor": 5
}
